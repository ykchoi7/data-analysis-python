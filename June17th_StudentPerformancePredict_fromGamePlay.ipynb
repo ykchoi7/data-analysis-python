{
 "cells": [
  {
   "cell_type": "code",
   "execution_count": 2,
   "id": "e14aa590",
   "metadata": {},
   "outputs": [],
   "source": [
    "import plotly.express as px\n",
    "import matplotlib.pyplot as plt\n",
    "import seaborn as sns\n",
    "import missingno as msno\n",
    "import pandas as pd\n",
    "import numpy as np\n",
    "import matplotlib\n",
    "from plotly.subplots import make_subplots\n",
    "import plotly.graph_objects as go\n",
    "%matplotlib inline\n",
    "\n",
    "import warnings\n",
    "warnings.filterwarnings(\"ignore\")"
   ]
  },
  {
   "cell_type": "code",
   "execution_count": 3,
   "id": "69062f73",
   "metadata": {},
   "outputs": [],
   "source": [
    "#세가지 데이터 셋 모두 읽어오기\n",
    "\n",
    "def read_dataset():\n",
    "    train = pd.read_csv(\"train.csv\")\n",
    "    print(\"train data import 성공\")\n",
    "    train_labels = pd.read_csv(\"train_labels.csv\")\n",
    "    print(\"train labels data import 성공\")\n",
    "    test = pd.read_csv(\"test.csv\")\n",
    "    print(\"test dat import 성공\")\n",
    "    return train, train_labels, test"
   ]
  },
  {
   "cell_type": "code",
   "execution_count": 4,
   "id": "19cf02bc",
   "metadata": {},
   "outputs": [
    {
     "name": "stdout",
     "output_type": "stream",
     "text": [
      "train data import 성공\n",
      "train labels data import 성공\n",
      "test dat import 성공\n"
     ]
    }
   ],
   "source": [
    "train_df, train_labels_df, test_df = read_dataset()"
   ]
  },
  {
   "cell_type": "markdown",
   "id": "a4685a80",
   "metadata": {},
   "source": [
    "## Data 탐색"
   ]
  },
  {
   "cell_type": "code",
   "execution_count": 5,
   "id": "acfcaa60",
   "metadata": {},
   "outputs": [
    {
     "data": {
      "text/html": [
       "<div>\n",
       "<style scoped>\n",
       "    .dataframe tbody tr th:only-of-type {\n",
       "        vertical-align: middle;\n",
       "    }\n",
       "\n",
       "    .dataframe tbody tr th {\n",
       "        vertical-align: top;\n",
       "    }\n",
       "\n",
       "    .dataframe thead th {\n",
       "        text-align: right;\n",
       "    }\n",
       "</style>\n",
       "<table border=\"1\" class=\"dataframe\">\n",
       "  <thead>\n",
       "    <tr style=\"text-align: right;\">\n",
       "      <th></th>\n",
       "      <th>session_id</th>\n",
       "      <th>index</th>\n",
       "      <th>elapsed_time</th>\n",
       "      <th>event_name</th>\n",
       "      <th>name</th>\n",
       "      <th>level</th>\n",
       "      <th>page</th>\n",
       "      <th>room_coor_x</th>\n",
       "      <th>room_coor_y</th>\n",
       "      <th>screen_coor_x</th>\n",
       "      <th>screen_coor_y</th>\n",
       "      <th>hover_duration</th>\n",
       "      <th>text</th>\n",
       "      <th>fqid</th>\n",
       "      <th>room_fqid</th>\n",
       "      <th>text_fqid</th>\n",
       "      <th>fullscreen</th>\n",
       "      <th>hq</th>\n",
       "      <th>music</th>\n",
       "      <th>level_group</th>\n",
       "    </tr>\n",
       "  </thead>\n",
       "  <tbody>\n",
       "    <tr>\n",
       "      <th>0</th>\n",
       "      <td>20090312431273200</td>\n",
       "      <td>0</td>\n",
       "      <td>0</td>\n",
       "      <td>cutscene_click</td>\n",
       "      <td>basic</td>\n",
       "      <td>0</td>\n",
       "      <td>NaN</td>\n",
       "      <td>-413.991405</td>\n",
       "      <td>-159.314686</td>\n",
       "      <td>380.0</td>\n",
       "      <td>494.0</td>\n",
       "      <td>NaN</td>\n",
       "      <td>undefined</td>\n",
       "      <td>intro</td>\n",
       "      <td>tunic.historicalsociety.closet</td>\n",
       "      <td>tunic.historicalsociety.closet.intro</td>\n",
       "      <td>0</td>\n",
       "      <td>0</td>\n",
       "      <td>1</td>\n",
       "      <td>0-4</td>\n",
       "    </tr>\n",
       "    <tr>\n",
       "      <th>1</th>\n",
       "      <td>20090312431273200</td>\n",
       "      <td>1</td>\n",
       "      <td>1323</td>\n",
       "      <td>person_click</td>\n",
       "      <td>basic</td>\n",
       "      <td>0</td>\n",
       "      <td>NaN</td>\n",
       "      <td>-413.991405</td>\n",
       "      <td>-159.314686</td>\n",
       "      <td>380.0</td>\n",
       "      <td>494.0</td>\n",
       "      <td>NaN</td>\n",
       "      <td>Whatcha doing over there, Jo?</td>\n",
       "      <td>gramps</td>\n",
       "      <td>tunic.historicalsociety.closet</td>\n",
       "      <td>tunic.historicalsociety.closet.gramps.intro_0_...</td>\n",
       "      <td>0</td>\n",
       "      <td>0</td>\n",
       "      <td>1</td>\n",
       "      <td>0-4</td>\n",
       "    </tr>\n",
       "    <tr>\n",
       "      <th>2</th>\n",
       "      <td>20090312431273200</td>\n",
       "      <td>2</td>\n",
       "      <td>831</td>\n",
       "      <td>person_click</td>\n",
       "      <td>basic</td>\n",
       "      <td>0</td>\n",
       "      <td>NaN</td>\n",
       "      <td>-413.991405</td>\n",
       "      <td>-159.314686</td>\n",
       "      <td>380.0</td>\n",
       "      <td>494.0</td>\n",
       "      <td>NaN</td>\n",
       "      <td>Just talking to Teddy.</td>\n",
       "      <td>gramps</td>\n",
       "      <td>tunic.historicalsociety.closet</td>\n",
       "      <td>tunic.historicalsociety.closet.gramps.intro_0_...</td>\n",
       "      <td>0</td>\n",
       "      <td>0</td>\n",
       "      <td>1</td>\n",
       "      <td>0-4</td>\n",
       "    </tr>\n",
       "    <tr>\n",
       "      <th>3</th>\n",
       "      <td>20090312431273200</td>\n",
       "      <td>3</td>\n",
       "      <td>1147</td>\n",
       "      <td>person_click</td>\n",
       "      <td>basic</td>\n",
       "      <td>0</td>\n",
       "      <td>NaN</td>\n",
       "      <td>-413.991405</td>\n",
       "      <td>-159.314686</td>\n",
       "      <td>380.0</td>\n",
       "      <td>494.0</td>\n",
       "      <td>NaN</td>\n",
       "      <td>I gotta run to my meeting!</td>\n",
       "      <td>gramps</td>\n",
       "      <td>tunic.historicalsociety.closet</td>\n",
       "      <td>tunic.historicalsociety.closet.gramps.intro_0_...</td>\n",
       "      <td>0</td>\n",
       "      <td>0</td>\n",
       "      <td>1</td>\n",
       "      <td>0-4</td>\n",
       "    </tr>\n",
       "    <tr>\n",
       "      <th>4</th>\n",
       "      <td>20090312431273200</td>\n",
       "      <td>4</td>\n",
       "      <td>1863</td>\n",
       "      <td>person_click</td>\n",
       "      <td>basic</td>\n",
       "      <td>0</td>\n",
       "      <td>NaN</td>\n",
       "      <td>-412.991405</td>\n",
       "      <td>-159.314686</td>\n",
       "      <td>381.0</td>\n",
       "      <td>494.0</td>\n",
       "      <td>NaN</td>\n",
       "      <td>Can I come, Gramps?</td>\n",
       "      <td>gramps</td>\n",
       "      <td>tunic.historicalsociety.closet</td>\n",
       "      <td>tunic.historicalsociety.closet.gramps.intro_0_...</td>\n",
       "      <td>0</td>\n",
       "      <td>0</td>\n",
       "      <td>1</td>\n",
       "      <td>0-4</td>\n",
       "    </tr>\n",
       "  </tbody>\n",
       "</table>\n",
       "</div>"
      ],
      "text/plain": [
       "          session_id  index  elapsed_time      event_name   name  level  page  \\\n",
       "0  20090312431273200      0             0  cutscene_click  basic      0   NaN   \n",
       "1  20090312431273200      1          1323    person_click  basic      0   NaN   \n",
       "2  20090312431273200      2           831    person_click  basic      0   NaN   \n",
       "3  20090312431273200      3          1147    person_click  basic      0   NaN   \n",
       "4  20090312431273200      4          1863    person_click  basic      0   NaN   \n",
       "\n",
       "   room_coor_x  room_coor_y  screen_coor_x  screen_coor_y  hover_duration  \\\n",
       "0  -413.991405  -159.314686          380.0          494.0             NaN   \n",
       "1  -413.991405  -159.314686          380.0          494.0             NaN   \n",
       "2  -413.991405  -159.314686          380.0          494.0             NaN   \n",
       "3  -413.991405  -159.314686          380.0          494.0             NaN   \n",
       "4  -412.991405  -159.314686          381.0          494.0             NaN   \n",
       "\n",
       "                            text    fqid                       room_fqid  \\\n",
       "0                      undefined   intro  tunic.historicalsociety.closet   \n",
       "1  Whatcha doing over there, Jo?  gramps  tunic.historicalsociety.closet   \n",
       "2         Just talking to Teddy.  gramps  tunic.historicalsociety.closet   \n",
       "3     I gotta run to my meeting!  gramps  tunic.historicalsociety.closet   \n",
       "4            Can I come, Gramps?  gramps  tunic.historicalsociety.closet   \n",
       "\n",
       "                                           text_fqid  fullscreen  hq  music  \\\n",
       "0               tunic.historicalsociety.closet.intro           0   0      1   \n",
       "1  tunic.historicalsociety.closet.gramps.intro_0_...           0   0      1   \n",
       "2  tunic.historicalsociety.closet.gramps.intro_0_...           0   0      1   \n",
       "3  tunic.historicalsociety.closet.gramps.intro_0_...           0   0      1   \n",
       "4  tunic.historicalsociety.closet.gramps.intro_0_...           0   0      1   \n",
       "\n",
       "  level_group  \n",
       "0         0-4  \n",
       "1         0-4  \n",
       "2         0-4  \n",
       "3         0-4  \n",
       "4         0-4  "
      ]
     },
     "execution_count": 5,
     "metadata": {},
     "output_type": "execute_result"
    }
   ],
   "source": [
    "train_df.head()"
   ]
  },
  {
   "cell_type": "code",
   "execution_count": 6,
   "id": "60ba1dcb",
   "metadata": {},
   "outputs": [
    {
     "data": {
      "text/html": [
       "<div>\n",
       "<style scoped>\n",
       "    .dataframe tbody tr th:only-of-type {\n",
       "        vertical-align: middle;\n",
       "    }\n",
       "\n",
       "    .dataframe tbody tr th {\n",
       "        vertical-align: top;\n",
       "    }\n",
       "\n",
       "    .dataframe thead th {\n",
       "        text-align: right;\n",
       "    }\n",
       "</style>\n",
       "<table border=\"1\" class=\"dataframe\">\n",
       "  <thead>\n",
       "    <tr style=\"text-align: right;\">\n",
       "      <th></th>\n",
       "      <th>session_id</th>\n",
       "      <th>correct</th>\n",
       "    </tr>\n",
       "  </thead>\n",
       "  <tbody>\n",
       "    <tr>\n",
       "      <th>0</th>\n",
       "      <td>20090312431273200_q1</td>\n",
       "      <td>1</td>\n",
       "    </tr>\n",
       "    <tr>\n",
       "      <th>1</th>\n",
       "      <td>20090312433251036_q1</td>\n",
       "      <td>0</td>\n",
       "    </tr>\n",
       "    <tr>\n",
       "      <th>2</th>\n",
       "      <td>20090312455206810_q1</td>\n",
       "      <td>1</td>\n",
       "    </tr>\n",
       "    <tr>\n",
       "      <th>3</th>\n",
       "      <td>20090313091715820_q1</td>\n",
       "      <td>0</td>\n",
       "    </tr>\n",
       "    <tr>\n",
       "      <th>4</th>\n",
       "      <td>20090313571836404_q1</td>\n",
       "      <td>1</td>\n",
       "    </tr>\n",
       "  </tbody>\n",
       "</table>\n",
       "</div>"
      ],
      "text/plain": [
       "             session_id  correct\n",
       "0  20090312431273200_q1        1\n",
       "1  20090312433251036_q1        0\n",
       "2  20090312455206810_q1        1\n",
       "3  20090313091715820_q1        0\n",
       "4  20090313571836404_q1        1"
      ]
     },
     "execution_count": 6,
     "metadata": {},
     "output_type": "execute_result"
    }
   ],
   "source": [
    "train_labels_df.head()"
   ]
  },
  {
   "cell_type": "code",
   "execution_count": 7,
   "id": "f63fbc25",
   "metadata": {},
   "outputs": [
    {
     "data": {
      "text/html": [
       "<div>\n",
       "<style scoped>\n",
       "    .dataframe tbody tr th:only-of-type {\n",
       "        vertical-align: middle;\n",
       "    }\n",
       "\n",
       "    .dataframe tbody tr th {\n",
       "        vertical-align: top;\n",
       "    }\n",
       "\n",
       "    .dataframe thead th {\n",
       "        text-align: right;\n",
       "    }\n",
       "</style>\n",
       "<table border=\"1\" class=\"dataframe\">\n",
       "  <thead>\n",
       "    <tr style=\"text-align: right;\">\n",
       "      <th></th>\n",
       "      <th>session_id</th>\n",
       "      <th>index</th>\n",
       "      <th>elapsed_time</th>\n",
       "      <th>event_name</th>\n",
       "      <th>name</th>\n",
       "      <th>level</th>\n",
       "      <th>page</th>\n",
       "      <th>room_coor_x</th>\n",
       "      <th>room_coor_y</th>\n",
       "      <th>screen_coor_x</th>\n",
       "      <th>...</th>\n",
       "      <th>hover_duration</th>\n",
       "      <th>text</th>\n",
       "      <th>fqid</th>\n",
       "      <th>room_fqid</th>\n",
       "      <th>text_fqid</th>\n",
       "      <th>fullscreen</th>\n",
       "      <th>hq</th>\n",
       "      <th>music</th>\n",
       "      <th>level_group</th>\n",
       "      <th>session_level</th>\n",
       "    </tr>\n",
       "  </thead>\n",
       "  <tbody>\n",
       "    <tr>\n",
       "      <th>0</th>\n",
       "      <td>20090109393214576</td>\n",
       "      <td>0</td>\n",
       "      <td>0</td>\n",
       "      <td>cutscene_click</td>\n",
       "      <td>basic</td>\n",
       "      <td>0</td>\n",
       "      <td>NaN</td>\n",
       "      <td>-413.991405</td>\n",
       "      <td>75.685314</td>\n",
       "      <td>380.0</td>\n",
       "      <td>...</td>\n",
       "      <td>NaN</td>\n",
       "      <td>undefined</td>\n",
       "      <td>intro</td>\n",
       "      <td>tunic.historicalsociety.closet</td>\n",
       "      <td>tunic.historicalsociety.closet.intro</td>\n",
       "      <td>0</td>\n",
       "      <td>0</td>\n",
       "      <td>1</td>\n",
       "      <td>0-4</td>\n",
       "      <td>0</td>\n",
       "    </tr>\n",
       "    <tr>\n",
       "      <th>1</th>\n",
       "      <td>20090109393214576</td>\n",
       "      <td>1</td>\n",
       "      <td>1965</td>\n",
       "      <td>person_click</td>\n",
       "      <td>basic</td>\n",
       "      <td>0</td>\n",
       "      <td>NaN</td>\n",
       "      <td>-105.991405</td>\n",
       "      <td>-63.314686</td>\n",
       "      <td>688.0</td>\n",
       "      <td>...</td>\n",
       "      <td>NaN</td>\n",
       "      <td>Whatcha doing over there, Jo?</td>\n",
       "      <td>gramps</td>\n",
       "      <td>tunic.historicalsociety.closet</td>\n",
       "      <td>tunic.historicalsociety.closet.gramps.intro_0_...</td>\n",
       "      <td>0</td>\n",
       "      <td>0</td>\n",
       "      <td>1</td>\n",
       "      <td>0-4</td>\n",
       "      <td>0</td>\n",
       "    </tr>\n",
       "    <tr>\n",
       "      <th>2</th>\n",
       "      <td>20090109393214576</td>\n",
       "      <td>2</td>\n",
       "      <td>3614</td>\n",
       "      <td>person_click</td>\n",
       "      <td>basic</td>\n",
       "      <td>0</td>\n",
       "      <td>NaN</td>\n",
       "      <td>-418.991405</td>\n",
       "      <td>47.685314</td>\n",
       "      <td>375.0</td>\n",
       "      <td>...</td>\n",
       "      <td>NaN</td>\n",
       "      <td>Just talking to Teddy.</td>\n",
       "      <td>gramps</td>\n",
       "      <td>tunic.historicalsociety.closet</td>\n",
       "      <td>tunic.historicalsociety.closet.gramps.intro_0_...</td>\n",
       "      <td>0</td>\n",
       "      <td>0</td>\n",
       "      <td>1</td>\n",
       "      <td>0-4</td>\n",
       "      <td>0</td>\n",
       "    </tr>\n",
       "    <tr>\n",
       "      <th>3</th>\n",
       "      <td>20090109393214576</td>\n",
       "      <td>3</td>\n",
       "      <td>5330</td>\n",
       "      <td>person_click</td>\n",
       "      <td>basic</td>\n",
       "      <td>0</td>\n",
       "      <td>NaN</td>\n",
       "      <td>-110.991405</td>\n",
       "      <td>-57.314686</td>\n",
       "      <td>683.0</td>\n",
       "      <td>...</td>\n",
       "      <td>NaN</td>\n",
       "      <td>I gotta run to my meeting!</td>\n",
       "      <td>gramps</td>\n",
       "      <td>tunic.historicalsociety.closet</td>\n",
       "      <td>tunic.historicalsociety.closet.gramps.intro_0_...</td>\n",
       "      <td>0</td>\n",
       "      <td>0</td>\n",
       "      <td>1</td>\n",
       "      <td>0-4</td>\n",
       "      <td>0</td>\n",
       "    </tr>\n",
       "    <tr>\n",
       "      <th>4</th>\n",
       "      <td>20090109393214576</td>\n",
       "      <td>4</td>\n",
       "      <td>6397</td>\n",
       "      <td>person_click</td>\n",
       "      <td>basic</td>\n",
       "      <td>0</td>\n",
       "      <td>NaN</td>\n",
       "      <td>-110.991405</td>\n",
       "      <td>-57.314686</td>\n",
       "      <td>683.0</td>\n",
       "      <td>...</td>\n",
       "      <td>NaN</td>\n",
       "      <td>Can I come, Gramps?</td>\n",
       "      <td>gramps</td>\n",
       "      <td>tunic.historicalsociety.closet</td>\n",
       "      <td>tunic.historicalsociety.closet.gramps.intro_0_...</td>\n",
       "      <td>0</td>\n",
       "      <td>0</td>\n",
       "      <td>1</td>\n",
       "      <td>0-4</td>\n",
       "      <td>0</td>\n",
       "    </tr>\n",
       "  </tbody>\n",
       "</table>\n",
       "<p>5 rows × 21 columns</p>\n",
       "</div>"
      ],
      "text/plain": [
       "          session_id  index  elapsed_time      event_name   name  level  page  \\\n",
       "0  20090109393214576      0             0  cutscene_click  basic      0   NaN   \n",
       "1  20090109393214576      1          1965    person_click  basic      0   NaN   \n",
       "2  20090109393214576      2          3614    person_click  basic      0   NaN   \n",
       "3  20090109393214576      3          5330    person_click  basic      0   NaN   \n",
       "4  20090109393214576      4          6397    person_click  basic      0   NaN   \n",
       "\n",
       "   room_coor_x  room_coor_y  screen_coor_x  ...  hover_duration  \\\n",
       "0  -413.991405    75.685314          380.0  ...             NaN   \n",
       "1  -105.991405   -63.314686          688.0  ...             NaN   \n",
       "2  -418.991405    47.685314          375.0  ...             NaN   \n",
       "3  -110.991405   -57.314686          683.0  ...             NaN   \n",
       "4  -110.991405   -57.314686          683.0  ...             NaN   \n",
       "\n",
       "                            text    fqid                       room_fqid  \\\n",
       "0                      undefined   intro  tunic.historicalsociety.closet   \n",
       "1  Whatcha doing over there, Jo?  gramps  tunic.historicalsociety.closet   \n",
       "2         Just talking to Teddy.  gramps  tunic.historicalsociety.closet   \n",
       "3     I gotta run to my meeting!  gramps  tunic.historicalsociety.closet   \n",
       "4            Can I come, Gramps?  gramps  tunic.historicalsociety.closet   \n",
       "\n",
       "                                           text_fqid fullscreen  hq  music  \\\n",
       "0               tunic.historicalsociety.closet.intro          0   0      1   \n",
       "1  tunic.historicalsociety.closet.gramps.intro_0_...          0   0      1   \n",
       "2  tunic.historicalsociety.closet.gramps.intro_0_...          0   0      1   \n",
       "3  tunic.historicalsociety.closet.gramps.intro_0_...          0   0      1   \n",
       "4  tunic.historicalsociety.closet.gramps.intro_0_...          0   0      1   \n",
       "\n",
       "   level_group session_level  \n",
       "0          0-4             0  \n",
       "1          0-4             0  \n",
       "2          0-4             0  \n",
       "3          0-4             0  \n",
       "4          0-4             0  \n",
       "\n",
       "[5 rows x 21 columns]"
      ]
     },
     "execution_count": 7,
     "metadata": {},
     "output_type": "execute_result"
    }
   ],
   "source": [
    "test_df.head()"
   ]
  },
  {
   "cell_type": "code",
   "execution_count": 9,
   "id": "9eafdb39",
   "metadata": {},
   "outputs": [
    {
     "data": {
      "text/plain": [
       "(26296946, 20)"
      ]
     },
     "execution_count": 9,
     "metadata": {},
     "output_type": "execute_result"
    }
   ],
   "source": [
    "train_df.shape"
   ]
  },
  {
   "cell_type": "code",
   "execution_count": 10,
   "id": "518ddcf0",
   "metadata": {},
   "outputs": [
    {
     "name": "stdout",
     "output_type": "stream",
     "text": [
      "<class 'pandas.core.frame.DataFrame'>\n",
      "RangeIndex: 26296946 entries, 0 to 26296945\n",
      "Data columns (total 20 columns):\n",
      " #   Column          Dtype  \n",
      "---  ------          -----  \n",
      " 0   session_id      int64  \n",
      " 1   index           int64  \n",
      " 2   elapsed_time    int64  \n",
      " 3   event_name      object \n",
      " 4   name            object \n",
      " 5   level           int64  \n",
      " 6   page            float64\n",
      " 7   room_coor_x     float64\n",
      " 8   room_coor_y     float64\n",
      " 9   screen_coor_x   float64\n",
      " 10  screen_coor_y   float64\n",
      " 11  hover_duration  float64\n",
      " 12  text            object \n",
      " 13  fqid            object \n",
      " 14  room_fqid       object \n",
      " 15  text_fqid       object \n",
      " 16  fullscreen      int64  \n",
      " 17  hq              int64  \n",
      " 18  music           int64  \n",
      " 19  level_group     object \n",
      "dtypes: float64(6), int64(7), object(7)\n",
      "memory usage: 3.9+ GB\n"
     ]
    }
   ],
   "source": [
    "train_df.info()"
   ]
  },
  {
   "cell_type": "code",
   "execution_count": 11,
   "id": "fcc306be",
   "metadata": {},
   "outputs": [
    {
     "data": {
      "text/plain": [
       "(3728, 21)"
      ]
     },
     "execution_count": 11,
     "metadata": {},
     "output_type": "execute_result"
    }
   ],
   "source": [
    "test_df.shape"
   ]
  },
  {
   "cell_type": "code",
   "execution_count": 12,
   "id": "a11722aa",
   "metadata": {},
   "outputs": [
    {
     "name": "stdout",
     "output_type": "stream",
     "text": [
      "<class 'pandas.core.frame.DataFrame'>\n",
      "RangeIndex: 3728 entries, 0 to 3727\n",
      "Data columns (total 21 columns):\n",
      " #   Column          Non-Null Count  Dtype  \n",
      "---  ------          --------------  -----  \n",
      " 0   session_id      3728 non-null   int64  \n",
      " 1   index           3728 non-null   int64  \n",
      " 2   elapsed_time    3728 non-null   int64  \n",
      " 3   event_name      3728 non-null   object \n",
      " 4   name            3728 non-null   object \n",
      " 5   level           3728 non-null   int64  \n",
      " 6   page            153 non-null    float64\n",
      " 7   room_coor_x     3366 non-null   float64\n",
      " 8   room_coor_y     3366 non-null   float64\n",
      " 9   screen_coor_x   3366 non-null   float64\n",
      " 10  screen_coor_y   3366 non-null   float64\n",
      " 11  hover_duration  353 non-null    float64\n",
      " 12  text            1162 non-null   object \n",
      " 13  fqid            2505 non-null   object \n",
      " 14  room_fqid       3728 non-null   object \n",
      " 15  text_fqid       1162 non-null   object \n",
      " 16  fullscreen      3728 non-null   int64  \n",
      " 17  hq              3728 non-null   int64  \n",
      " 18  music           3728 non-null   int64  \n",
      " 19  level_group     3728 non-null   object \n",
      " 20  session_level   3728 non-null   int64  \n",
      "dtypes: float64(6), int64(8), object(7)\n",
      "memory usage: 611.8+ KB\n"
     ]
    }
   ],
   "source": [
    "test_df.info()"
   ]
  },
  {
   "cell_type": "code",
   "execution_count": 14,
   "id": "6afc3b41",
   "metadata": {},
   "outputs": [
    {
     "name": "stdout",
     "output_type": "stream",
     "text": [
      "<class 'pandas.core.frame.DataFrame'>\n",
      "RangeIndex: 424116 entries, 0 to 424115\n",
      "Data columns (total 2 columns):\n",
      " #   Column      Non-Null Count   Dtype \n",
      "---  ------      --------------   ----- \n",
      " 0   session_id  424116 non-null  object\n",
      " 1   correct     424116 non-null  int64 \n",
      "dtypes: int64(1), object(1)\n",
      "memory usage: 6.5+ MB\n"
     ]
    }
   ],
   "source": [
    "train_labels_df.info()"
   ]
  },
  {
   "cell_type": "code",
   "execution_count": 16,
   "id": "b84a26ef",
   "metadata": {},
   "outputs": [
    {
     "data": {
      "text/plain": [
       "session_id               0\n",
       "index                    0\n",
       "elapsed_time             0\n",
       "event_name               0\n",
       "name                     0\n",
       "level                    0\n",
       "page              25732402\n",
       "room_coor_x        2073272\n",
       "room_coor_y        2073272\n",
       "screen_coor_x      2073272\n",
       "screen_coor_y      2073272\n",
       "hover_duration    24294702\n",
       "text              16679807\n",
       "fqid               8274415\n",
       "room_fqid                0\n",
       "text_fqid         16679702\n",
       "fullscreen               0\n",
       "hq                       0\n",
       "music                    0\n",
       "level_group              0\n",
       "dtype: int64"
      ]
     },
     "execution_count": 16,
     "metadata": {},
     "output_type": "execute_result"
    }
   ],
   "source": [
    "train_df.isna().sum()\n",
    "#총 26296946개 중"
   ]
  },
  {
   "cell_type": "code",
   "execution_count": 17,
   "id": "c2760e82",
   "metadata": {},
   "outputs": [
    {
     "data": {
      "text/plain": [
       "session_id           0\n",
       "index                0\n",
       "elapsed_time         0\n",
       "event_name           0\n",
       "name                 0\n",
       "level                0\n",
       "page              3575\n",
       "room_coor_x        362\n",
       "room_coor_y        362\n",
       "screen_coor_x      362\n",
       "screen_coor_y      362\n",
       "hover_duration    3375\n",
       "text              2566\n",
       "fqid              1223\n",
       "room_fqid            0\n",
       "text_fqid         2566\n",
       "fullscreen           0\n",
       "hq                   0\n",
       "music                0\n",
       "level_group          0\n",
       "session_level        0\n",
       "dtype: int64"
      ]
     },
     "execution_count": 17,
     "metadata": {},
     "output_type": "execute_result"
    }
   ],
   "source": [
    "test_df.isna().sum()\n",
    "#총 3728개 중 "
   ]
  },
  {
   "cell_type": "markdown",
   "id": "06e13f07",
   "metadata": {},
   "source": [
    "## EDA"
   ]
  },
  {
   "cell_type": "markdown",
   "id": "52f8437c",
   "metadata": {},
   "source": [
    "### Missing Values"
   ]
  },
  {
   "cell_type": "code",
   "execution_count": 19,
   "id": "5b93e4be",
   "metadata": {},
   "outputs": [],
   "source": [
    "import pandas as pd\n",
    "import numpy as np\n",
    "import matplotlib.pyplot as plt\n",
    "import matplotlib.patches as mpatches\n",
    "import seaborn as sns"
   ]
  },
  {
   "cell_type": "code",
   "execution_count": 23,
   "id": "388f3d5a",
   "metadata": {},
   "outputs": [
    {
     "data": {
      "image/png": "[encoded data removed]",
      "text/plain": [
       "<Figure size 1000x400 with 2 Axes>"
      ]
     },
     "metadata": {},
     "output_type": "display_data"
    }
   ],
   "source": [
    "train_missing_ratios = train_df.isna().sum() / len(train_df)\n",
    "test_missing_ratios = test_df.isna().sum() / len(test_df)\n",
    "\n",
    "plt.figure(figsize=(10,4))\n",
    "plt.subplot(1,2,1)\n",
    "plt.bar(train_missing_ratios.index,\n",
    "       train_missing_ratios.values,\n",
    "       color=['red' if ratio == 1 else 'green' for ratio in train_missing_ratios.values])\n",
    "plt.xlabel('Feature', fontsize=12)\n",
    "plt.ylabel('Missing values ratio', fontsize=12)\n",
    "plt.title('Missing values in train set', fontsize=16)\n",
    "plt.xticks(rotation=90)\n",
    "plt.legend(handles = [mpatches.Patch(color='green'),\n",
    "                     mpatches.Patch(color='red')],\n",
    "          labels=['Partially missing values', 'Completely missing values'])\n",
    "\n",
    "\n",
    "plt.subplot(1,2,2)\n",
    "plt.bar(test_missing_ratios.index,\n",
    "       test_missing_ratios.values,\n",
    "       color=['red' if ratio == 1 else 'orange' for ratio in test_missing_ratios.values])\n",
    "plt.title('Missing values in test set', fontsize=16)\n",
    "plt.xticks(rotation=90)\n",
    "\n",
    "plt.tight_layout()\n",
    "plt.show()"
   ]
  },
  {
   "cell_type": "code",
   "execution_count": 24,
   "id": "1057af9e",
   "metadata": {},
   "outputs": [],
   "source": [
    "#train set에서는 page, hover_duration 데이터가 거의 완전히 없는 값\n",
    "#test set에서도 page, hover_duration 데이터가 거의 완전히 없는 값에 해당한다"
   ]
  },
  {
   "cell_type": "markdown",
   "id": "296c2744",
   "metadata": {},
   "source": [
    "### Level Group Distribution"
   ]
  },
  {
   "cell_type": "code",
   "execution_count": 46,
   "id": "e64ef56b",
   "metadata": {},
   "outputs": [
    {
     "data": {
      "text/plain": [
       "array(['0-4', '5-12', '13-22'], dtype=object)"
      ]
     },
     "execution_count": 46,
     "metadata": {},
     "output_type": "execute_result"
    }
   ],
   "source": [
    "train_df['level_group'].unique()"
   ]
  },
  {
   "cell_type": "code",
   "execution_count": 52,
   "id": "2702c02e",
   "metadata": {},
   "outputs": [
    {
     "data": {
      "image/png": "[encoded data removed]",
      "text/plain": [
       "<Figure size 500x500 with 1 Axes>"
      ]
     },
     "metadata": {},
     "output_type": "display_data"
    }
   ],
   "source": [
    "#원형 그래프 비율 확인\n",
    "\n",
    "from pylab import rcParams\n",
    "\n",
    "labels = train_df['level_group'].value_counts(sort=True).index\n",
    "sizes = train_df['level_group'].value_counts(sort=True)\n",
    "\n",
    "colors = ['red', 'orange', 'yellow']\n",
    "explode = (0.1,0)\n",
    "\n",
    "rcParams['figure.figsize'] = 5,5\n",
    "plt.pie(sizes, labels=labels, colors=colors,\n",
    "       autopct=\"%1.1f%%\", shadow=True, startangle=270)\n",
    "plt.title('Level group distribution', size=20)\n",
    "plt.show()"
   ]
  },
  {
   "cell_type": "markdown",
   "id": "7b6d4d33",
   "metadata": {},
   "source": [
    "### Page Distribution"
   ]
  },
  {
   "cell_type": "code",
   "execution_count": 53,
   "id": "993ec760",
   "metadata": {},
   "outputs": [
    {
     "data": {
      "text/plain": [
       "array([nan,  0.,  1.,  3.,  4.,  5.,  6.,  2.])"
      ]
     },
     "execution_count": 53,
     "metadata": {},
     "output_type": "execute_result"
    }
   ],
   "source": [
    "train_df['page'].unique()"
   ]
  },
  {
   "cell_type": "code",
   "execution_count": 62,
   "id": "49aead79",
   "metadata": {},
   "outputs": [
    {
     "data": {
      "image/png": "[encoded data removed]",
      "text/plain": [
       "<Figure size 500x500 with 1 Axes>"
      ]
     },
     "metadata": {},
     "output_type": "display_data"
    }
   ],
   "source": [
    "#원형 그래프 비율 확인\n",
    "\n",
    "labels = train_df['page'].value_counts(sort=True).index\n",
    "sizes = train_df['page'].value_counts(sort=True)\n",
    "\n",
    "colors = ['blue', 'skyblue', 'steelblue', 'navy']\n",
    "explode = (0.1,0)\n",
    "\n",
    "rcParams['figure.figsize'] = 5,5\n",
    "plt.pie(sizes, labels=labels, colors=colors,\n",
    "       autopct=\"%1.1f%%\", shadow=True, startangle=270)\n",
    "plt.title('Page distribution', size=20)\n",
    "plt.show()"
   ]
  },
  {
   "cell_type": "markdown",
   "id": "2b00a54c",
   "metadata": {},
   "source": [
    "### Features Engineer"
   ]
  },
  {
   "cell_type": "code",
   "execution_count": 26,
   "id": "35b3e075",
   "metadata": {},
   "outputs": [
    {
     "data": {
      "text/html": [
       "<div>\n",
       "<style scoped>\n",
       "    .dataframe tbody tr th:only-of-type {\n",
       "        vertical-align: middle;\n",
       "    }\n",
       "\n",
       "    .dataframe tbody tr th {\n",
       "        vertical-align: top;\n",
       "    }\n",
       "\n",
       "    .dataframe thead th {\n",
       "        text-align: right;\n",
       "    }\n",
       "</style>\n",
       "<table border=\"1\" class=\"dataframe\">\n",
       "  <thead>\n",
       "    <tr style=\"text-align: right;\">\n",
       "      <th></th>\n",
       "      <th>session_id</th>\n",
       "      <th>correct</th>\n",
       "      <th>session</th>\n",
       "      <th>q</th>\n",
       "    </tr>\n",
       "  </thead>\n",
       "  <tbody>\n",
       "    <tr>\n",
       "      <th>0</th>\n",
       "      <td>20090312431273200_q1</td>\n",
       "      <td>1</td>\n",
       "      <td>20090312431273200</td>\n",
       "      <td>1</td>\n",
       "    </tr>\n",
       "    <tr>\n",
       "      <th>1</th>\n",
       "      <td>20090312433251036_q1</td>\n",
       "      <td>0</td>\n",
       "      <td>20090312433251036</td>\n",
       "      <td>1</td>\n",
       "    </tr>\n",
       "    <tr>\n",
       "      <th>2</th>\n",
       "      <td>20090312455206810_q1</td>\n",
       "      <td>1</td>\n",
       "      <td>20090312455206810</td>\n",
       "      <td>1</td>\n",
       "    </tr>\n",
       "    <tr>\n",
       "      <th>3</th>\n",
       "      <td>20090313091715820_q1</td>\n",
       "      <td>0</td>\n",
       "      <td>20090313091715820</td>\n",
       "      <td>1</td>\n",
       "    </tr>\n",
       "    <tr>\n",
       "      <th>4</th>\n",
       "      <td>20090313571836404_q1</td>\n",
       "      <td>1</td>\n",
       "      <td>20090313571836404</td>\n",
       "      <td>1</td>\n",
       "    </tr>\n",
       "  </tbody>\n",
       "</table>\n",
       "</div>"
      ],
      "text/plain": [
       "             session_id  correct            session  q\n",
       "0  20090312431273200_q1        1  20090312431273200  1\n",
       "1  20090312433251036_q1        0  20090312433251036  1\n",
       "2  20090312455206810_q1        1  20090312455206810  1\n",
       "3  20090313091715820_q1        0  20090313091715820  1\n",
       "4  20090313571836404_q1        1  20090313571836404  1"
      ]
     },
     "execution_count": 26,
     "metadata": {},
     "output_type": "execute_result"
    }
   ],
   "source": [
    "targets = pd.read_csv('train_labels.csv')\n",
    "targets['session'] = targets.session_id.apply(lambda x : int(x.split('_')[0]))\n",
    "targets['q'] = targets.session_id.apply(lambda x : int(x.split('_')[-1][1:]))\n",
    "targets.head()"
   ]
  },
  {
   "cell_type": "code",
   "execution_count": 27,
   "id": "0434af8b",
   "metadata": {},
   "outputs": [],
   "source": [
    "cats = ['event_name','name','fqid', 'room_fqid', 'text_fqid']\n",
    "nums = ['elapsed_time','level','page','room_coor_x', 'room_coor_y', \n",
    "        'screen_coor_x', 'screen_coor_y', 'hover_duration']"
   ]
  },
  {
   "cell_type": "code",
   "execution_count": 28,
   "id": "c1f1409e",
   "metadata": {},
   "outputs": [],
   "source": [
    "def feature_engineer(train):\n",
    "    dfs = []\n",
    "    #카테고리형변수\n",
    "    for c in cats:\n",
    "        tmp = train.groupby(['session_id', 'level_group'])[c].agg('nunique')\n",
    "        #여러개의 집계함수 사용하고 싶을 때, agg() 메소드 활용\n",
    "        tmp.name = tmp.name + '_nunique'\n",
    "        dfs.append(tmp)\n",
    "    #숫자형변수\n",
    "    for c in nums:\n",
    "        tmp = train.groupby(['session_id', 'level_group'])[c].agg('mean')\n",
    "        dfs.append(tmp)\n",
    "    for c in nums:\n",
    "        tmp = train.groupby(['session_id', 'level_group'])[c].agg('std')\n",
    "        #std - 표준편차\n",
    "        tmp.name = tmp.name + '_std'\n",
    "        dfs.append(tmp)\n",
    "    df = pd.concat(dfs, axis=1)\n",
    "    df = df.fillna(-1)\n",
    "    df = df.reset_index()\n",
    "    df = df.set_index('session_id')\n",
    "    return df"
   ]
  },
  {
   "cell_type": "code",
   "execution_count": 35,
   "id": "22251484",
   "metadata": {
    "scrolled": true
   },
   "outputs": [
    {
     "name": "stdout",
     "output_type": "stream",
     "text": [
      "CPU times: user 45.3 s, sys: 18.8 s, total: 1min 4s\n",
      "Wall time: 1min 18s\n"
     ]
    },
    {
     "data": {
      "text/html": [
       "<div>\n",
       "<style scoped>\n",
       "    .dataframe tbody tr th:only-of-type {\n",
       "        vertical-align: middle;\n",
       "    }\n",
       "\n",
       "    .dataframe tbody tr th {\n",
       "        vertical-align: top;\n",
       "    }\n",
       "\n",
       "    .dataframe thead th {\n",
       "        text-align: right;\n",
       "    }\n",
       "</style>\n",
       "<table border=\"1\" class=\"dataframe\">\n",
       "  <thead>\n",
       "    <tr style=\"text-align: right;\">\n",
       "      <th></th>\n",
       "      <th>level_group</th>\n",
       "      <th>event_name_nunique</th>\n",
       "      <th>name_nunique</th>\n",
       "      <th>fqid_nunique</th>\n",
       "      <th>room_fqid_nunique</th>\n",
       "      <th>text_fqid_nunique</th>\n",
       "      <th>elapsed_time</th>\n",
       "      <th>level</th>\n",
       "      <th>page</th>\n",
       "      <th>room_coor_x</th>\n",
       "      <th>...</th>\n",
       "      <th>screen_coor_y</th>\n",
       "      <th>hover_duration</th>\n",
       "      <th>elapsed_time_std</th>\n",
       "      <th>level_std</th>\n",
       "      <th>page_std</th>\n",
       "      <th>room_coor_x_std</th>\n",
       "      <th>room_coor_y_std</th>\n",
       "      <th>screen_coor_x_std</th>\n",
       "      <th>screen_coor_y_std</th>\n",
       "      <th>hover_duration_std</th>\n",
       "    </tr>\n",
       "    <tr>\n",
       "      <th>session_id</th>\n",
       "      <th></th>\n",
       "      <th></th>\n",
       "      <th></th>\n",
       "      <th></th>\n",
       "      <th></th>\n",
       "      <th></th>\n",
       "      <th></th>\n",
       "      <th></th>\n",
       "      <th></th>\n",
       "      <th></th>\n",
       "      <th></th>\n",
       "      <th></th>\n",
       "      <th></th>\n",
       "      <th></th>\n",
       "      <th></th>\n",
       "      <th></th>\n",
       "      <th></th>\n",
       "      <th></th>\n",
       "      <th></th>\n",
       "      <th></th>\n",
       "      <th></th>\n",
       "    </tr>\n",
       "  </thead>\n",
       "  <tbody>\n",
       "    <tr>\n",
       "      <th>20090312431273200</th>\n",
       "      <td>0-4</td>\n",
       "      <td>10</td>\n",
       "      <td>3</td>\n",
       "      <td>30</td>\n",
       "      <td>7</td>\n",
       "      <td>17</td>\n",
       "      <td>8.579356e+04</td>\n",
       "      <td>1.945455</td>\n",
       "      <td>-1.0</td>\n",
       "      <td>7.701275</td>\n",
       "      <td>...</td>\n",
       "      <td>383.044872</td>\n",
       "      <td>2389.500000</td>\n",
       "      <td>49246.539458</td>\n",
       "      <td>1.230975</td>\n",
       "      <td>-1.000000</td>\n",
       "      <td>399.296040</td>\n",
       "      <td>129.292411</td>\n",
       "      <td>214.871000</td>\n",
       "      <td>104.082743</td>\n",
       "      <td>3227.370757</td>\n",
       "    </tr>\n",
       "    <tr>\n",
       "      <th>20090312431273200</th>\n",
       "      <td>13-22</td>\n",
       "      <td>10</td>\n",
       "      <td>3</td>\n",
       "      <td>49</td>\n",
       "      <td>12</td>\n",
       "      <td>35</td>\n",
       "      <td>1.040601e+06</td>\n",
       "      <td>17.402381</td>\n",
       "      <td>-1.0</td>\n",
       "      <td>-130.347170</td>\n",
       "      <td>...</td>\n",
       "      <td>379.301020</td>\n",
       "      <td>899.925926</td>\n",
       "      <td>126666.129584</td>\n",
       "      <td>2.358652</td>\n",
       "      <td>-1.000000</td>\n",
       "      <td>622.061375</td>\n",
       "      <td>230.370874</td>\n",
       "      <td>240.280218</td>\n",
       "      <td>99.067861</td>\n",
       "      <td>1305.088265</td>\n",
       "    </tr>\n",
       "    <tr>\n",
       "      <th>20090312431273200</th>\n",
       "      <td>5-12</td>\n",
       "      <td>10</td>\n",
       "      <td>3</td>\n",
       "      <td>39</td>\n",
       "      <td>11</td>\n",
       "      <td>24</td>\n",
       "      <td>3.572052e+05</td>\n",
       "      <td>8.054054</td>\n",
       "      <td>-1.0</td>\n",
       "      <td>14.306062</td>\n",
       "      <td>...</td>\n",
       "      <td>378.784906</td>\n",
       "      <td>969.333333</td>\n",
       "      <td>80175.676658</td>\n",
       "      <td>2.096919</td>\n",
       "      <td>-1.000000</td>\n",
       "      <td>357.227700</td>\n",
       "      <td>137.409476</td>\n",
       "      <td>203.268560</td>\n",
       "      <td>120.255453</td>\n",
       "      <td>1316.408315</td>\n",
       "    </tr>\n",
       "    <tr>\n",
       "      <th>20090312433251036</th>\n",
       "      <td>0-4</td>\n",
       "      <td>11</td>\n",
       "      <td>4</td>\n",
       "      <td>22</td>\n",
       "      <td>6</td>\n",
       "      <td>11</td>\n",
       "      <td>9.763342e+04</td>\n",
       "      <td>1.870504</td>\n",
       "      <td>0.0</td>\n",
       "      <td>-84.045960</td>\n",
       "      <td>...</td>\n",
       "      <td>370.723077</td>\n",
       "      <td>1378.750000</td>\n",
       "      <td>67372.714092</td>\n",
       "      <td>1.232616</td>\n",
       "      <td>0.000000</td>\n",
       "      <td>445.980040</td>\n",
       "      <td>156.186242</td>\n",
       "      <td>252.554707</td>\n",
       "      <td>121.062929</td>\n",
       "      <td>2114.876406</td>\n",
       "    </tr>\n",
       "    <tr>\n",
       "      <th>20090312433251036</th>\n",
       "      <td>13-22</td>\n",
       "      <td>11</td>\n",
       "      <td>6</td>\n",
       "      <td>73</td>\n",
       "      <td>16</td>\n",
       "      <td>43</td>\n",
       "      <td>2.498852e+06</td>\n",
       "      <td>17.762529</td>\n",
       "      <td>5.1</td>\n",
       "      <td>-30.762282</td>\n",
       "      <td>...</td>\n",
       "      <td>387.930077</td>\n",
       "      <td>720.384921</td>\n",
       "      <td>777382.529186</td>\n",
       "      <td>1.825923</td>\n",
       "      <td>0.863075</td>\n",
       "      <td>529.575656</td>\n",
       "      <td>234.279590</td>\n",
       "      <td>259.288856</td>\n",
       "      <td>133.345693</td>\n",
       "      <td>1990.705518</td>\n",
       "    </tr>\n",
       "  </tbody>\n",
       "</table>\n",
       "<p>5 rows × 22 columns</p>\n",
       "</div>"
      ],
      "text/plain": [
       "                  level_group  event_name_nunique  name_nunique  fqid_nunique  \\\n",
       "session_id                                                                      \n",
       "20090312431273200         0-4                  10             3            30   \n",
       "20090312431273200       13-22                  10             3            49   \n",
       "20090312431273200        5-12                  10             3            39   \n",
       "20090312433251036         0-4                  11             4            22   \n",
       "20090312433251036       13-22                  11             6            73   \n",
       "\n",
       "                   room_fqid_nunique  text_fqid_nunique  elapsed_time  \\\n",
       "session_id                                                              \n",
       "20090312431273200                  7                 17  8.579356e+04   \n",
       "20090312431273200                 12                 35  1.040601e+06   \n",
       "20090312431273200                 11                 24  3.572052e+05   \n",
       "20090312433251036                  6                 11  9.763342e+04   \n",
       "20090312433251036                 16                 43  2.498852e+06   \n",
       "\n",
       "                       level  page  room_coor_x  ...  screen_coor_y  \\\n",
       "session_id                                       ...                  \n",
       "20090312431273200   1.945455  -1.0     7.701275  ...     383.044872   \n",
       "20090312431273200  17.402381  -1.0  -130.347170  ...     379.301020   \n",
       "20090312431273200   8.054054  -1.0    14.306062  ...     378.784906   \n",
       "20090312433251036   1.870504   0.0   -84.045960  ...     370.723077   \n",
       "20090312433251036  17.762529   5.1   -30.762282  ...     387.930077   \n",
       "\n",
       "                   hover_duration  elapsed_time_std  level_std  page_std  \\\n",
       "session_id                                                                 \n",
       "20090312431273200     2389.500000      49246.539458   1.230975 -1.000000   \n",
       "20090312431273200      899.925926     126666.129584   2.358652 -1.000000   \n",
       "20090312431273200      969.333333      80175.676658   2.096919 -1.000000   \n",
       "20090312433251036     1378.750000      67372.714092   1.232616  0.000000   \n",
       "20090312433251036      720.384921     777382.529186   1.825923  0.863075   \n",
       "\n",
       "                   room_coor_x_std  room_coor_y_std  screen_coor_x_std  \\\n",
       "session_id                                                               \n",
       "20090312431273200       399.296040       129.292411         214.871000   \n",
       "20090312431273200       622.061375       230.370874         240.280218   \n",
       "20090312431273200       357.227700       137.409476         203.268560   \n",
       "20090312433251036       445.980040       156.186242         252.554707   \n",
       "20090312433251036       529.575656       234.279590         259.288856   \n",
       "\n",
       "                   screen_coor_y_std  hover_duration_std  \n",
       "session_id                                                \n",
       "20090312431273200         104.082743         3227.370757  \n",
       "20090312431273200          99.067861         1305.088265  \n",
       "20090312431273200         120.255453         1316.408315  \n",
       "20090312433251036         121.062929         2114.876406  \n",
       "20090312433251036         133.345693         1990.705518  \n",
       "\n",
       "[5 rows x 22 columns]"
      ]
     },
     "execution_count": 35,
     "metadata": {},
     "output_type": "execute_result"
    }
   ],
   "source": [
    "%%time\n",
    "df = feature_engineer(train_df)\n",
    "df.head()"
   ]
  },
  {
   "cell_type": "markdown",
   "id": "d5b9177e",
   "metadata": {},
   "source": [
    "### Train Random Forest Model"
   ]
  },
  {
   "cell_type": "code",
   "execution_count": 36,
   "id": "13639168",
   "metadata": {},
   "outputs": [
    {
     "name": "stdout",
     "output_type": "stream",
     "text": [
      "21 features\n",
      "23562 users info\n"
     ]
    }
   ],
   "source": [
    "features = [c for c in df.columns if c != 'level_group']\n",
    "print(len(features), 'features')\n",
    "all_users = df.index.unique()\n",
    "print(len(all_users), 'users info')"
   ]
  },
  {
   "cell_type": "code",
   "execution_count": 40,
   "id": "d8ec52a7",
   "metadata": {},
   "outputs": [
    {
     "name": "stdout",
     "output_type": "stream",
     "text": [
      "#########################\n",
      "### Fold 1\n",
      "#########################\n",
      "1 , 2 , 3 , 4 , 5 , 6 , 7 , 8 , 9 , 10 , 11 , 12 , 13 , 14 , 15 , 16 , 17 , 18 , \n",
      "#########################\n",
      "### Fold 2\n",
      "#########################\n",
      "1 , 2 , 3 , 4 , 5 , 6 , 7 , 8 , 9 , 10 , 11 , 12 , 13 , 14 , 15 , 16 , 17 , 18 , \n",
      "#########################\n",
      "### Fold 3\n",
      "#########################\n",
      "1 , 2 , 3 , 4 , 5 , 6 , 7 , 8 , 9 , 10 , 11 , 12 , 13 , 14 , 15 , 16 , 17 , 18 , \n",
      "#########################\n",
      "### Fold 4\n",
      "#########################\n",
      "1 , 2 , 3 , 4 , 5 , 6 , 7 , 8 , 9 , 10 , 11 , 12 , 13 , 14 , 15 , 16 , 17 , 18 , \n",
      "#########################\n",
      "### Fold 5\n",
      "#########################\n",
      "1 , 2 , 3 , 4 , 5 , 6 , 7 , 8 , 9 , 10 , 11 , 12 , 13 , 14 , 15 , 16 , 17 , 18 , \n"
     ]
    }
   ],
   "source": [
    "from sklearn.model_selection import KFold, GroupKFold\n",
    "from sklearn.ensemble import RandomForestClassifier\n",
    "\n",
    "gkf = GroupKFold(n_splits=5)\n",
    "oof = pd.DataFrame(data=np.zeros((len(all_users),18)), index=all_users)\n",
    "#oof - out of fold\n",
    "#np.zeros -> 0으로 채워진 배열 생성\n",
    "models = {}\n",
    "\n",
    "# 5가지 그룹의 K FOLD를 활용하여 cv score (k겹 교차검증) 계산하기\n",
    "#교차 검증의 점수를 높이기 위해서는 데이터 셋에 있는 모든 샘플에 대해 모델이 잘 일반화 되어야 함\n",
    "for i, (train_index, test_index) in enumerate(gkf.split(X=df, groups=df.index)):\n",
    "    print('#'*25)\n",
    "    print('### Fold',i+1)\n",
    "    print('#'*25)\n",
    "    \n",
    "    # 질문 1~18번까지 실행\n",
    "    for t in range(1,19):\n",
    "        print(t,', ',end='')\n",
    "        \n",
    "        # 몇 개의 질문으로 train할지에 따라 group 나누기\n",
    "        if t<=3: grp = '0-4'\n",
    "        elif t<=13: grp = '5-12'\n",
    "        elif t<=22: grp = '13-22'\n",
    "            \n",
    "        # TRAIN DATA\n",
    "        train_x = df.iloc[train_index]\n",
    "        #.iloc[] - 행 인덱스 번호로 행 선택\n",
    "        #.loc[] - label이나 조건 표현으로 선택\n",
    "        train_x = train_x.loc[train_x.level_group == grp]\n",
    "        train_users = train_x.index.values\n",
    "        train_y = targets.loc[targets.q==t].set_index('session').loc[train_users]\n",
    "        \n",
    "        # VALID DATA\n",
    "        valid_x = df.iloc[test_index]\n",
    "        valid_x = valid_x.loc[valid_x.level_group == grp]\n",
    "        valid_users = valid_x.index.values\n",
    "        valid_y = targets.loc[targets.q==t].set_index('session').loc[valid_users]\n",
    "        \n",
    "        # TRAIN MODEL\n",
    "        clf = RandomForestClassifier() \n",
    "        clf.fit(train_x[features].astype('float32'), train_y['correct'])\n",
    "        \n",
    "        # SAVE MODEL, PREDICT VALID OOF\n",
    "        models[f'{grp}_{t}'] = clf\n",
    "        oof.loc[valid_users, t-1] = clf.predict_proba(valid_x[features].astype('float32'))[:,1]\n",
    "        \n",
    "    print()"
   ]
  },
  {
   "cell_type": "markdown",
   "id": "4b82940d",
   "metadata": {},
   "source": [
    "### Compute CV Score"
   ]
  },
  {
   "cell_type": "markdown",
   "id": "d2b857f9",
   "metadata": {},
   "source": [
    "예측 확률을 1과 0으로 변환해야 합니다. 경쟁 측정 기준은 정밀도와 리콜의 조화 평균인 F1 점수입니다. 1을 예측할 때와 0을 예측할 때의 p > 임계값에 대한 최적 임계값을 찾아 F1 점수를 최대화하기 위한 작업을 진행\n",
    "\n",
    "=> 정밀도와 리콜이 균형있게 좋은 모델을 찾기 위해 f1 점수를 활용한다"
   ]
  },
  {
   "cell_type": "code",
   "execution_count": 41,
   "id": "e47e354b",
   "metadata": {},
   "outputs": [],
   "source": [
    "# 18개의 열 dataframe에 true 라벨을 붙여주기\n",
    "true = oof.copy() #list 복사하기\n",
    "for k in range(18):\n",
    "    # GET TRUE LABELS\n",
    "    tmp = targets.loc[targets.q == k+1].set_index('session').loc[all_users]\n",
    "    true[k] = tmp.correct.values"
   ]
  },
  {
   "cell_type": "code",
   "execution_count": 43,
   "id": "5a2fdcad",
   "metadata": {},
   "outputs": [
    {
     "name": "stdout",
     "output_type": "stream",
     "text": [
      "0.40, 0.41, 0.42, 0.43, 0.44, 0.45, 0.46, 0.47, 0.48, 0.49, 0.50, 0.51, 0.52, 0.53, 0.54, 0.55, 0.56, 0.57, 0.58, 0.59, 0.60, 0.61, 0.62, 0.63, 0.64, 0.65, 0.66, 0.67, 0.68, 0.69, 0.70, 0.71, 0.72, 0.73, 0.74, 0.75, 0.76, 0.77, 0.78, 0.79, 0.80, "
     ]
    }
   ],
   "source": [
    "from sklearn.metrics import f1_score\n",
    "\n",
    "# 최적의 한계점 찾기\n",
    "scores = []; thresholds = []\n",
    "best_score = 0; best_threshold = 0\n",
    "\n",
    "for threshold in np.arange(0.4,0.81,0.01):\n",
    "    print(f'{threshold:.02f}, ',end='')\n",
    "    preds = (oof.values.reshape((-1))>threshold).astype('int')\n",
    "    m = f1_score(true.values.reshape((-1)), preds, average='macro')   \n",
    "    scores.append(m)\n",
    "    thresholds.append(threshold)\n",
    "    if m>best_score:\n",
    "        best_score = m\n",
    "        best_threshold = threshold"
   ]
  },
  {
   "cell_type": "code",
   "execution_count": 44,
   "id": "eb673155",
   "metadata": {},
   "outputs": [
    {
     "data": {
      "image/png": "[encoded data removed]",
      "text/plain": [
       "<Figure size 2000x500 with 1 Axes>"
      ]
     },
     "metadata": {},
     "output_type": "display_data"
    }
   ],
   "source": [
    "import matplotlib.pyplot as plt\n",
    "\n",
    "# PLOT 한계점 VS. F1_SCORE\n",
    "plt.figure(figsize=(20,5))\n",
    "plt.plot(thresholds,scores,'-o',color='blue')\n",
    "plt.scatter([best_threshold], [best_score], color='blue', s=300, alpha=1)\n",
    "plt.xlabel('Threshold',size=14)\n",
    "plt.ylabel('Validation F1 Score',size=14)\n",
    "plt.title(f'Threshold vs. F1_Score with Best F1_Score = {best_score:.3f} at Best Threshold = {best_threshold:.3}',size=18)\n",
    "plt.show()\n",
    "\n",
    "#roc, auc "
   ]
  },
  {
   "cell_type": "code",
   "execution_count": 45,
   "id": "71626ec4",
   "metadata": {},
   "outputs": [
    {
     "name": "stdout",
     "output_type": "stream",
     "text": [
      "When using optimal threshold...\n",
      "Q0: F1 = 0.5625618980247049\n",
      "Q1: F1 = 0.49464879356568364\n",
      "Q2: F1 = 0.48455595623205905\n",
      "Q3: F1 = 0.5816198670101699\n",
      "Q4: F1 = 0.559713752610766\n",
      "Q5: F1 = 0.5884098850358732\n",
      "Q6: F1 = 0.5667109046313459\n",
      "Q7: F1 = 0.5331664415257842\n",
      "Q8: F1 = 0.5836555489964581\n",
      "Q9: F1 = 0.5221703094668048\n",
      "Q10: F1 = 0.5604034683324192\n",
      "Q11: F1 = 0.4860405851241421\n",
      "Q12: F1 = 0.44007260482278493\n",
      "Q13: F1 = 0.5837336301718714\n",
      "Q14: F1 = 0.5050200976085639\n",
      "Q15: F1 = 0.4830611494451775\n",
      "Q16: F1 = 0.5282240277101535\n",
      "Q17: F1 = 0.4872698785742264\n",
      "==> Overall F1 = 0.6642644653175862\n"
     ]
    }
   ],
   "source": [
    "print('When using optimal threshold...') #어떤 한계점이 가장 최적일까\n",
    "\n",
    "for k in range(18):\n",
    "        \n",
    "    # 질문별 f1 score 계산\n",
    "    m = f1_score(true[k].values, (oof[k].values>best_threshold).astype('int'), average='macro')\n",
    "    print(f'Q{k}: F1 =',m)\n",
    "    \n",
    "# 전체 f1 score 계산\n",
    "m = f1_score(true.values.reshape((-1)), (oof.values.reshape((-1))>best_threshold).astype('int'), average='macro')\n",
    "print('==> Overall F1 =',m)"
   ]
  },
  {
   "cell_type": "code",
   "execution_count": null,
   "id": "9f3e043e",
   "metadata": {},
   "outputs": [],
   "source": [
    "#Q5(6번 질문)에서 가장 높은 f1 score 형성"
   ]
  }
 ],
 "metadata": {
  "kernelspec": {
   "display_name": "Python 3 (ipykernel)",
   "language": "python",
   "name": "python3"
  },
  "language_info": {
   "codemirror_mode": {
    "name": "ipython",
    "version": 3
   },
   "file_extension": ".py",
   "mimetype": "text/x-python",
   "name": "python",
   "nbconvert_exporter": "python",
   "pygments_lexer": "ipython3",
   "version": "3.9.13"
  }
 },
 "nbformat": 4,
 "nbformat_minor": 5
}
